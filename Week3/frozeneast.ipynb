{
 "cells": [
  {
   "cell_type": "code",
   "execution_count": 1,
   "id": "f031d0ce-8f81-4d1d-88c3-d15576da98de",
   "metadata": {},
   "outputs": [],
   "source": [
    "import cv2\n",
    "import math\n",
    "import matplotlib.pyplot as plt "
   ]
  },
  {
   "cell_type": "code",
   "execution_count": 2,
   "id": "5fa2668f-2b47-4bc9-8fd1-8273a289ff2a",
   "metadata": {},
   "outputs": [],
   "source": [
    "def decodeBoundingBoxes(scores, geometry, scoreThresh):\n",
    "    detections = []\n",
    "    confidences = []\n",
    "\n",
    "    ############ CHECK DIMENSIONS AND SHAPES OF geometry AND scores ############\n",
    "    assert len(scores.shape) == 4, \"Incorrect dimensions of scores\"\n",
    "    assert len(geometry.shape) == 4, \"Incorrect dimensions of geometry\"\n",
    "    assert scores.shape[0] == 1, \"Invalid dimensions of scores\"\n",
    "    assert geometry.shape[0] == 1, \"Invalid dimensions of geometry\"\n",
    "    assert scores.shape[1] == 1, \"Invalid dimensions of scores\"\n",
    "    assert geometry.shape[1] == 5, \"Invalid dimensions of geometry\"\n",
    "    assert scores.shape[2] == geometry.shape[2], \"Invalid dimensions of scores and geometry\"\n",
    "    assert scores.shape[3] == geometry.shape[3], \"Invalid dimensions of scores and geometry\"\n",
    "    height = scores.shape[2]\n",
    "    width = scores.shape[3]\n",
    "    for y in range(0, height):\n",
    "\n",
    "        # Extract data from scores\n",
    "        scoresData = scores[0][0][y]\n",
    "        x0_data = geometry[0][0][y]\n",
    "        x1_data = geometry[0][1][y]\n",
    "        x2_data = geometry[0][2][y]\n",
    "        x3_data = geometry[0][3][y]\n",
    "        anglesData = geometry[0][4][y]\n",
    "        for x in range(0, width):\n",
    "            score = scoresData[x]\n",
    "\n",
    "            # If score is lower than threshold score, move to next x\n",
    "            if (score < scoreThresh):\n",
    "                continue\n",
    "\n",
    "            # Calculate offset\n",
    "            offsetX = x * 4.0\n",
    "            offsetY = y * 4.0\n",
    "            angle = 0\n",
    "            # angle = anglesData[x]\n",
    "            # Calculate cos and sin of angle\n",
    "            cosA = math.cos(angle)\n",
    "            sinA = math.sin(angle)\n",
    "            h = x0_data[x] + x2_data[x]\n",
    "            w = x1_data[x] + x3_data[x]\n",
    "\n",
    "            # Calculate offset\n",
    "            offset = ([offsetX + cosA * x1_data[x] + sinA * x2_data[x], offsetY - sinA * x1_data[x] + cosA * x2_data[x]])\n",
    "\n",
    "            # Find points for rectangle\n",
    "            p1 = (-sinA * h + offset[0], -cosA * h + offset[1])\n",
    "            p3 = (-cosA * w + offset[0], sinA * w + offset[1])\n",
    "            center = (0.5 * (p1[0] + p3[0]), 0.5 * (p1[1] + p3[1]))\n",
    "            detections.append((center, (w, h), -1 * angle * 180.0 / math.pi))\n",
    "            confidences.append(float(score))\n",
    "\n",
    "    # Return detections and confidences\n",
    "    return [detections, confidences]\n"
   ]
  },
  {
   "cell_type": "code",
   "execution_count": 3,
   "id": "c6dfe4cc-ee4d-43c0-a3b3-a5e4dd5efa37",
   "metadata": {},
   "outputs": [],
   "source": [
    "net = cv2.dnn.readNet(\"frozen_east_text_detection.pb\")   #This is the model we get after extraction\n",
    "frame = cv2.imread(\"lipsum.png\")\n",
    "inpWidth = inpHeight = 320  # A default dimension\n",
    "# Preparing a blob to pass the image through the neural network\n",
    "# Subtracting mean values used while training the model.\n",
    "image_blob = cv2.dnn.blobFromImage(frame, 1.0, (inpWidth, inpHeight), (123.68, 116.78, 103.94), True, False)"
   ]
  },
  {
   "cell_type": "code",
   "execution_count": 4,
   "id": "d5b7f261-f4f4-495d-ba5e-53443e143351",
   "metadata": {},
   "outputs": [],
   "source": [
    "output_layer = []\n",
    "output_layer.append(\"feature_fusion/Conv_7/Sigmoid\")\n",
    "output_layer.append(\"feature_fusion/concat_3\")"
   ]
  },
  {
   "cell_type": "code",
   "execution_count": 5,
   "id": "f4d939a0-599f-44ac-8dcf-331f69c37c7c",
   "metadata": {},
   "outputs": [],
   "source": [
    "net.setInput(image_blob)\n",
    "output = net.forward(output_layer)\n",
    "scores = output[0]\n",
    "geometry = output[1]"
   ]
  },
  {
   "cell_type": "code",
   "execution_count": 6,
   "id": "b96d5a08-6647-4617-8a75-0976b2514e2e",
   "metadata": {},
   "outputs": [],
   "source": [
    "ct_list = [1e-9, 1e-7, 1e-5, 1e-3, 1e-1]\n",
    "indices_list = []\n",
    "for i,confThreshold in enumerate(ct_list):\n",
    "    nmsThreshold = confThreshold / 2\n",
    "    [boxes, confidences] = decodeBoundingBoxes(scores, geometry, confThreshold)\n",
    "    indices = cv2.dnn.NMSBoxesRotated(boxes, confidences, confThreshold, nmsThreshold)\n",
    "    indices_list.append([ct_list[i],[len(indices)]])"
   ]
  },
  {
   "cell_type": "code",
   "execution_count": 7,
   "id": "5c4c4a8a-b8ec-4e3b-98e9-9a44967bfa42",
   "metadata": {},
   "outputs": [
    {
     "name": "stdout",
     "output_type": "stream",
     "text": [
      "Indices:  63\n",
      "Diagonals:  252\n"
     ]
    },
    {
     "data": {
      "text/plain": [
       "True"
      ]
     },
     "execution_count": 7,
     "metadata": {},
     "output_type": "execute_result"
    }
   ],
   "source": [
    "diagonals = []\n",
    "height_ = frame.shape[0]\n",
    "width_ = frame.shape[1]\n",
    "rW = width_ / float(inpWidth)\n",
    "rH = height_ / float(inpHeight)\n",
    "\n",
    "for i in indices:\n",
    "    # get 4 corners of the rotated rect\n",
    "    vertices = cv2.boxPoints(boxes[i])\n",
    "    # scale the bounding box coordinates based on the respective ratios\n",
    "    for j in range(4):\n",
    "        vertices[j][0] *= rW\n",
    "        vertices[j][1] *= rH\n",
    "    \n",
    "    for j in range(4):\n",
    "        p1 = (int(vertices[j][0]), int(vertices[j][1]))\n",
    "        p2 = (int(vertices[(j + 1) % 4][0]), int(vertices[(j + 1) % 4][1]))\n",
    "        diagonals.append([p1,p2])\n",
    "        cv2.line(frame, p1, p2, (0, 255, 0), 3)\n",
    "        \n",
    "# To save the image:\n",
    "print(\"Indices: \", len(indices))\n",
    "print(\"Diagonals: \", len(diagonals))\n",
    "cv2.imwrite(\"lipsum_boxed.jpg\", frame)"
   ]
  },
  {
   "cell_type": "code",
   "execution_count": 8,
   "id": "2a403fbb-d8e6-4446-9734-f14ff1576eeb",
   "metadata": {},
   "outputs": [],
   "source": [
    "cv2.imshow(\"lipsum_boxed.jpg\",frame)"
   ]
  },
  {
   "cell_type": "code",
   "execution_count": 9,
   "id": "46983d29-85cc-4d8a-aa9a-1914f731160d",
   "metadata": {},
   "outputs": [],
   "source": [
    "ct_list = []\n",
    "indices_count = []\n",
    "for i in range(len(indices_list)):\n",
    "    ct_list.append(indices_list[i][0])\n",
    "    indices_count.append(indices_list[i][1])\n"
   ]
  },
  {
   "cell_type": "code",
   "execution_count": 10,
   "id": "64882ba9-7d60-4d70-9389-657c6b1a54e8",
   "metadata": {},
   "outputs": [
    {
     "data": {
      "image/png": "[encoded data removed]",
      "text/plain": [
       "<Figure size 640x480 with 1 Axes>"
      ]
     },
     "metadata": {},
     "output_type": "display_data"
    }
   ],
   "source": [
    "plt.plot(ct_list, indices_count, 'co-', label='ConfThreshold', linewidth=2)\n",
    "plt.xlabel('Confidence Threshold')\n",
    "plt.ylabel('Number of Indices')\n",
    "plt.legend()\n",
    "plt.show()"
   ]
  },
  {
   "cell_type": "code",
   "execution_count": null,
   "id": "5b55d525-873e-4449-a5d6-e5f3d6fb09c8",
   "metadata": {},
   "outputs": [],
   "source": []
  }
 ],
 "metadata": {
  "kernelspec": {
   "display_name": "AIN311",
   "language": "python",
   "name": "ain311"
  },
  "language_info": {
   "codemirror_mode": {
    "name": "ipython",
    "version": 3
   },
   "file_extension": ".py",
   "mimetype": "text/x-python",
   "name": "python",
   "nbconvert_exporter": "python",
   "pygments_lexer": "ipython3",
   "version": "3.10.6"
  }
 },
 "nbformat": 4,
 "nbformat_minor": 5
}
