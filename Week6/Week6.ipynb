{
 "cells": [
  {
   "cell_type": "code",
   "execution_count": 1,
   "id": "2e9a40fe-9285-454a-ae73-bb182dcef958",
   "metadata": {
    "tags": []
   },
   "outputs": [],
   "source": [
    "# for manipulating the PDF\n",
    "# import fitz\n",
    "# for OCR using PyTesseract\n",
    "import re\n",
    "import os\n",
    "import cv2                              # pre-processing images\n",
    "import math\n",
    "import json\n",
    "from collections import OrderedDict\n",
    "import numpy as np\n",
    "import pandas as pd\n",
    "import pytesseract                      # extracting text from images\n",
    "import warnings\n",
    "import matplotlib.pyplot as plt         # displaying output images\n",
    "from sklearn.linear_model import LogisticRegression\n",
    "from numpy import mean\n",
    "from numpy import std\n",
    "from sklearn.ensemble import RandomForestClassifier\n",
    "from sklearn.model_selection import train_test_split\n",
    "from sklearn.model_selection import LeaveOneOut\n",
    "from sklearn.model_selection import cross_val_score\n",
    "from sklearn.svm import SVC\n",
    "from sklearn.feature_extraction.text import TfidfVectorizer,CountVectorizer\n",
    "import itertools\n",
    "warnings.filterwarnings(\"ignore\")\n",
    "from PIL import Image\n",
    "from sklearn.model_selection import GridSearchCV"
   ]
  },
  {
   "cell_type": "code",
   "execution_count": 2,
   "id": "03f20229-424f-4334-b691-4b801199bd61",
   "metadata": {},
   "outputs": [],
   "source": [
    "pytesseract.pytesseract.tesseract_cmd = r'C:\\Program Files\\Tesseract-OCR\\tesseract.exe'"
   ]
  },
  {
   "cell_type": "code",
   "execution_count": 3,
   "id": "3c826fa6-0f37-47f5-b439-0fe75c2826c7",
   "metadata": {
    "tags": []
   },
   "outputs": [],
   "source": [
    "os.chdir('C:\\\\Users\\\\alper\\\\OneDrive\\\\Desktop\\\\School\\\\5th Semester\\\\AIN311\\\\Project') \n",
    "french_filepaths = []\n",
    "moai_filepaths = []\n",
    "worldcup_filepaths = []\n",
    "french_filepaths = [os.path.join(\"data\\\\french\\\\\",f) for f in os.listdir(\"data\\\\french\\\\\") if f.endswith(\".txt\")]\n",
    "moai_filepaths = [os.path.join(\"data\\\\moai\\\\\",f) for f in os.listdir(\"data\\\\moai\\\\\") if f.endswith(\".txt\")]\n",
    "worldcup_filepaths = [os.path.join(\"data\\\\worldcup\\\\\",f) for f in os.listdir(\"data\\\\worldcup\\\\\") if f.endswith(\".txt\")]"
   ]
  },
  {
   "cell_type": "code",
   "execution_count": 4,
   "id": "29844788-a3b1-44fc-86a4-66c4769fe048",
   "metadata": {},
   "outputs": [],
   "source": [
    "french_experiments = []\n",
    "for data_file in french_filepaths:\n",
    "    df = pd.read_json(data_file, lines = True)\n",
    "    df[\"values\"]\n",
    "    french_experiments.append(df)"
   ]
  },
  {
   "cell_type": "code",
   "execution_count": 5,
   "id": "1187d56c-a920-4692-9281-a93cfec6c0ac",
   "metadata": {
    "scrolled": true
   },
   "outputs": [
    {
     "name": "stdout",
     "output_type": "stream",
     "text": [
      "\n",
      " french : \n",
      "0:841, 1:749, 2:345, 3:334, 4:322, 5:889, 6:140, 7:415, 8:246, 9:602, 10:865, 11:542, 12:308, 13:325, 14:228, 15:924, 16:660, \n",
      " moai : \n",
      "0:656, 1:527, 2:290, 3:374, 4:422, 5:193, 6:44, 7:521, 8:271, 9:614, 10:625, 11:544, 12:362, 13:230, 14:250, 15:754, 16:499, \n",
      " worldcup : \n",
      "0:673, 1:533, 2:261, 3:336, 4:266, 5:242, 6:91, 7:313, 8:300, 9:475, 10:537, 11:427, 12:208, 13:144, 14:274, 15:726, 16:626, "
     ]
    }
   ],
   "source": [
    "for text_type, filepaths in zip([\"french\",\"moai\",\"worldcup\"], [french_filepaths, moai_filepaths, worldcup_filepaths]):\n",
    "    # Read data\n",
    "    generic_datalist = []\n",
    "    for data_file in filepaths:\n",
    "        with open(data_file) as f:\n",
    "            lines = f.readlines()\n",
    "\n",
    "        dataDict = {}\n",
    "        for i,line in enumerate(lines):\n",
    "            lineDict = json.loads(line)\n",
    "            dataDict[i] = lineDict\n",
    "        generic_datalist.append(dataDict)\n",
    "\n",
    "    # filter out non-fixation data\n",
    "    generic_fixation_list = []\n",
    "    for experiment_dict in generic_datalist:\n",
    "        trackerDict = {}\n",
    "        j = 0\n",
    "        for i in range(len(experiment_dict)):\n",
    "            if(experiment_dict[i]['category'] == 'tracker'):\n",
    "                trackerDict[j] = experiment_dict[i]\n",
    "                j += 1\n",
    "\n",
    "        fixationDict = {}\n",
    "        j = 0\n",
    "        for i in range(len(trackerDict)):\n",
    "            try:\n",
    "                if(trackerDict[i]['values']['frame']['fix'] == True):\n",
    "                    fixationDict[j] = trackerDict[i]\n",
    "                    j += 1\n",
    "            except:\n",
    "                pass\n",
    "        generic_fixation_list.append(fixationDict)\n",
    "\n",
    "    # general overview\n",
    "    print(\"\\n\",text_type,\": \")\n",
    "    for i,experiment in enumerate(generic_fixation_list):\n",
    "        print(str(i) + \":\"+ str(len(experiment)), end = \", \")\n",
    "\n",
    "    # df creation for cond\n",
    "    generic_list = []\n",
    "    for experiment_dict in generic_fixation_list:\n",
    "        experiment_df = pd.DataFrame( columns=list('xy'))\n",
    "        for i in range(len(experiment_dict)):\n",
    "            x = experiment_dict[i]['values']['frame']['raw']['x']\n",
    "            y = experiment_dict[i]['values']['frame']['raw']['y']   \n",
    "            experiment_df = experiment_df.append({'x':x,'y':y}, ignore_index=True) \n",
    "        generic_list.append(experiment_df)\n",
    "\n",
    "    if (text_type == \"french\"):\n",
    "        french_df = generic_list\n",
    "    elif (text_type == \"moai\"):\n",
    "        moai_df = generic_list\n",
    "    elif (text_type == \"worldcup\"):\n",
    "        worldcup_df = generic_list"
   ]
  },
  {
   "cell_type": "code",
   "execution_count": 6,
   "id": "24c0ad67-1855-4ff8-993a-df9d66dc8271",
   "metadata": {},
   "outputs": [],
   "source": [
    "french_BoW_list = []\n",
    "moai_BoW_list = []\n",
    "worldcup_BoW_list = []\n",
    "for text_type, dataset in zip([\"french\",\"moai\",\"worldcup\"], [french_df, moai_df, worldcup_df]):\n",
    "    screenshot_filepath = \"data\\\\\" + text_type + \"\\\\\" + text_type + \".png\"\n",
    "    original_image = cv2.imread(screenshot_filepath)\n",
    "    # convert the image to grayscale\n",
    "    gray_image = cv2.cvtColor(original_image, cv2.COLOR_BGR2GRAY)\n",
    "    # Performing OTSU threshold\n",
    "    ret, threshold_image = cv2.threshold(gray_image, 0, 255, cv2.THRESH_OTSU | cv2.THRESH_BINARY_INV)\n",
    "\n",
    "    rectangular_kernel = cv2.getStructuringElement(cv2.MORPH_RECT, (12, 12))\n",
    "\n",
    "    # Applying dilation on the threshold image\n",
    "    dilated_image = cv2.dilate(threshold_image, rectangular_kernel, iterations = 1)\n",
    "    #plt.figure(figsize=(25, 15))\n",
    "    #plt.imshow(dilated_image)\n",
    "    #plt.show()\n",
    "\n",
    "    # Finding contours\n",
    "    contours, hierarchy = cv2.findContours(dilated_image, cv2.RETR_TREE, cv2.CHAIN_APPROX_SIMPLE)\n",
    "\n",
    "    # Creating a copy of the image\n",
    "    copied_image = original_image.copy()\n",
    "\n",
    "    mask = np.zeros(original_image.shape, np.uint8)\n",
    "\n",
    "    # Looping through the identified contours\n",
    "    # Then rectangular part is cropped and passed on to pytesseract\n",
    "    # pytesseract extracts the text inside each contours\n",
    "    # Extracted text is then written into a text file\n",
    "    paragraph = \"\"\n",
    "    #print(len(contours))\n",
    "    for experiment_data in dataset:\n",
    "        bag_of_words = {}\n",
    "        #print(experiment_data)\n",
    "        for cnt in contours:\n",
    "            x, y, w, h = cv2.boundingRect(cnt)\n",
    "            # Cropping the text block for giving input to OCR\n",
    "            cropped = copied_image[y:y + h, x:x + w]\n",
    "            \n",
    "            cv2.rectangle(copied_image, (x, y), (x + w, y + h), (36,255,12), 2)\n",
    "            # Apply OCR on the cropped image\n",
    "            text = pytesseract.image_to_string(cropped, lang='eng', config='--oem 3 --psm 1')\n",
    "            text = text.lower()\n",
    "            text = re.sub('[^a-z]', ' ', text)\n",
    "            text = re.sub(r'\\s+', '', text)\n",
    "\n",
    "            insideCond = (experiment_data[\"x\"] >= x) & (experiment_data[\"x\"] < x + w) & (experiment_data[\"y\"] >= y) & (experiment_data[\"y\"] < y + h)\n",
    "            #print(insideCond)\n",
    "            boundFixations = experiment_data[insideCond]\n",
    "            #print(boundFixations)\n",
    "            for i in range(len(boundFixations)):\n",
    "                try:\n",
    "                    count = bag_of_words[str(text)]\n",
    "                    count += 1\n",
    "                    bag_of_words.update({str(text):count})\n",
    "                except:\n",
    "                    bag_of_words[str(text)] = 1\n",
    "            #del bag_of_words[\"\"]       \n",
    "        if (text_type == \"french\"):\n",
    "            french_BoW_list.append(bag_of_words)\n",
    "            #print(french_BoW_list)\n",
    "        elif (text_type == \"moai\"):\n",
    "            moai_BoW_list.append(bag_of_words)\n",
    "            #print(moai_BoW_list)\n",
    "        elif (text_type == \"worldcup\"):\n",
    "            worldcup_BoW_list.append(bag_of_words)\n",
    "            #print(worldcup_BoW_list)\n",
    "    masked = cv2.drawContours(mask, [cnt], 0, (255, 255, 255), -1)"
   ]
  },
  {
   "cell_type": "code",
   "execution_count": 16,
   "id": "9121494f-7af8-4ea9-b2dc-4cba6a7c4ae2",
   "metadata": {},
   "outputs": [],
   "source": [
    "from math import log\n",
    "def calculate_tf_idf(bow):\n",
    "    # Total number of documents in the collection\n",
    "    N = len(bow)\n",
    "    # Calculate the tf-idf values for each word\n",
    "    tf_idf = {}\n",
    "    for word, count in bow.items():\n",
    "        # Calculate the term frequency (tf)\n",
    "        tf = count / sum(bow.values())\n",
    "      # Calculate the inverse document frequency (idf)\n",
    "        # idf is defined as log(N / n), where N is the total number of documents\n",
    "        # and n is the number of documents that contain the word\n",
    "        n = sum(1 for doc in bow if word in doc)\n",
    "        idf = log(N / n)\n",
    "        # Calculate the tf-idf value\n",
    "        tf_idf[word] = tf * idf\n",
    "    return tf_idf"
   ]
  },
  {
   "cell_type": "code",
   "execution_count": 473,
   "id": "109dea0c-9610-4e53-99eb-66fd28e466d3",
   "metadata": {},
   "outputs": [],
   "source": [
    "# New td-idf lists for all 3 classes are created using convertToAllDict() function above\n",
    "train_frenchNew = [] # French td-idf list\n",
    "idx = 0\n",
    "for bag_of_word in french_BoW_list:\n",
    "    bag_of_word_tfidf = calculate_tf_idf(bag_of_word)\n",
    "    x = convertToAllDict(french_BoW_list, bag_of_word_tfidf) \n",
    "    x = sum(x)\n",
    "    train_frenchNew.append([x,train_french[idx][1]] )\n",
    "    idx += 1"
   ]
  },
  {
   "cell_type": "code",
   "execution_count": 497,
   "id": "290bddb7-cbc4-4ef7-85f8-768b52790c00",
   "metadata": {},
   "outputs": [],
   "source": [
    "train_worldcupNew = [] # Worldcup td-idf list\n",
    "idx=0\n",
    "for bag_of_word in worldcup_BoW_list:\n",
    "    bag_of_word_tfidf=calculate_tf_idf(bag_of_word)\n",
    "    x=convertToAllDict(worldcup_BoW_list,bag_of_word_tfidf)\n",
    "    x=sum(x)\n",
    "    train_worldcupNew.append( [x,train_worldcup[idx][1]] )\n",
    "    idx+=1"
   ]
  },
  {
   "cell_type": "code",
   "execution_count": 508,
   "id": "5ddcef81-bc3d-4d5d-a950-d9ab64d5e2df",
   "metadata": {},
   "outputs": [],
   "source": [
    "train_moaiNew = [] # Moai td-idf list\n",
    "idx=0\n",
    "for bag_of_word in moai_BoW_list:\n",
    "    bag_of_word_tfidf=calculate_tf_idf(bag_of_word)\n",
    "    x=convertToAllDict(moai_BoW_list,bag_of_word_tfidf)\n",
    "    x=sum(x)\n",
    "    train_moaiNew.append( [x,train_moai[idx][1]] )\n",
    "    idx+=1"
   ]
  },
  {
   "cell_type": "code",
   "execution_count": 474,
   "id": "fae30949-af76-43ec-b4f3-c4a8f8d4967b",
   "metadata": {},
   "outputs": [],
   "source": [
    "train_frenchNew = pd.DataFrame(train_frenchNew, columns =['X', 'y']) "
   ]
  },
  {
   "cell_type": "code",
   "execution_count": 592,
   "id": "d61bb98f-2b7d-4455-a470-fcbfe4e129b5",
   "metadata": {},
   "outputs": [
    {
     "name": "stdout",
     "output_type": "stream",
     "text": [
      "0     3.465736\n",
      "1     3.995518\n",
      "2     3.731536\n",
      "3     3.769849\n",
      "4     3.619465\n",
      "5     3.992337\n",
      "6     3.433987\n",
      "7     3.367296\n",
      "8     3.496508\n",
      "9     3.806637\n",
      "10    3.912023\n",
      "11    3.809651\n",
      "12    3.708824\n",
      "13    3.699031\n",
      "14    3.332205\n",
      "15    3.957156\n",
      "16    3.845480\n",
      "Name: X, dtype: float64\n"
     ]
    }
   ],
   "source": [
    "print(train_frenchNew[\"X\"])"
   ]
  },
  {
   "cell_type": "code",
   "execution_count": 498,
   "id": "27050e70-5ff7-45c8-afbd-62d0b1451299",
   "metadata": {},
   "outputs": [],
   "source": [
    "train_worldcupNew = pd.DataFrame(train_worldcupNew, columns =['X', 'y']) \n"
   ]
  },
  {
   "cell_type": "code",
   "execution_count": 499,
   "id": "6d9cd538-6bf9-4a19-a7d0-79d4e19d0fd0",
   "metadata": {},
   "outputs": [
    {
     "data": {
      "text/html": [
       "<div>\n",
       "<style scoped>\n",
       "    .dataframe tbody tr th:only-of-type {\n",
       "        vertical-align: middle;\n",
       "    }\n",
       "\n",
       "    .dataframe tbody tr th {\n",
       "        vertical-align: top;\n",
       "    }\n",
       "\n",
       "    .dataframe thead th {\n",
       "        text-align: right;\n",
       "    }\n",
       "</style>\n",
       "<table border=\"1\" class=\"dataframe\">\n",
       "  <thead>\n",
       "    <tr style=\"text-align: right;\">\n",
       "      <th></th>\n",
       "      <th>X</th>\n",
       "      <th>y</th>\n",
       "    </tr>\n",
       "  </thead>\n",
       "  <tbody>\n",
       "    <tr>\n",
       "      <th>0</th>\n",
       "      <td>2.397895</td>\n",
       "      <td>2</td>\n",
       "    </tr>\n",
       "    <tr>\n",
       "      <th>1</th>\n",
       "      <td>3.428807</td>\n",
       "      <td>5</td>\n",
       "    </tr>\n",
       "    <tr>\n",
       "      <th>2</th>\n",
       "      <td>3.401423</td>\n",
       "      <td>1</td>\n",
       "    </tr>\n",
       "    <tr>\n",
       "      <th>3</th>\n",
       "      <td>3.195771</td>\n",
       "      <td>1</td>\n",
       "    </tr>\n",
       "    <tr>\n",
       "      <th>4</th>\n",
       "      <td>3.080697</td>\n",
       "      <td>2</td>\n",
       "    </tr>\n",
       "    <tr>\n",
       "      <th>5</th>\n",
       "      <td>3.197871</td>\n",
       "      <td>1</td>\n",
       "    </tr>\n",
       "    <tr>\n",
       "      <th>6</th>\n",
       "      <td>2.890372</td>\n",
       "      <td>3</td>\n",
       "    </tr>\n",
       "    <tr>\n",
       "      <th>7</th>\n",
       "      <td>3.255188</td>\n",
       "      <td>4</td>\n",
       "    </tr>\n",
       "    <tr>\n",
       "      <th>8</th>\n",
       "      <td>3.212574</td>\n",
       "      <td>4</td>\n",
       "    </tr>\n",
       "    <tr>\n",
       "      <th>9</th>\n",
       "      <td>3.477898</td>\n",
       "      <td>3</td>\n",
       "    </tr>\n",
       "    <tr>\n",
       "      <th>10</th>\n",
       "      <td>3.512561</td>\n",
       "      <td>1</td>\n",
       "    </tr>\n",
       "    <tr>\n",
       "      <th>11</th>\n",
       "      <td>3.052534</td>\n",
       "      <td>5</td>\n",
       "    </tr>\n",
       "    <tr>\n",
       "      <th>12</th>\n",
       "      <td>2.995732</td>\n",
       "      <td>4</td>\n",
       "    </tr>\n",
       "    <tr>\n",
       "      <th>13</th>\n",
       "      <td>2.990158</td>\n",
       "      <td>3</td>\n",
       "    </tr>\n",
       "    <tr>\n",
       "      <th>14</th>\n",
       "      <td>3.091042</td>\n",
       "      <td>3</td>\n",
       "    </tr>\n",
       "    <tr>\n",
       "      <th>15</th>\n",
       "      <td>3.504686</td>\n",
       "      <td>3</td>\n",
       "    </tr>\n",
       "    <tr>\n",
       "      <th>16</th>\n",
       "      <td>3.317218</td>\n",
       "      <td>4</td>\n",
       "    </tr>\n",
       "  </tbody>\n",
       "</table>\n",
       "</div>"
      ],
      "text/plain": [
       "           X  y\n",
       "0   2.397895  2\n",
       "1   3.428807  5\n",
       "2   3.401423  1\n",
       "3   3.195771  1\n",
       "4   3.080697  2\n",
       "5   3.197871  1\n",
       "6   2.890372  3\n",
       "7   3.255188  4\n",
       "8   3.212574  4\n",
       "9   3.477898  3\n",
       "10  3.512561  1\n",
       "11  3.052534  5\n",
       "12  2.995732  4\n",
       "13  2.990158  3\n",
       "14  3.091042  3\n",
       "15  3.504686  3\n",
       "16  3.317218  4"
      ]
     },
     "execution_count": 499,
     "metadata": {},
     "output_type": "execute_result"
    }
   ],
   "source": [
    "train_worldcupNew"
   ]
  },
  {
   "cell_type": "code",
   "execution_count": 509,
   "id": "a62201d1-0201-4016-93e9-92967134634c",
   "metadata": {},
   "outputs": [],
   "source": [
    "train_moaiNew = pd.DataFrame(train_worldcupNew, columns =['X', 'y']) \n"
   ]
  },
  {
   "cell_type": "code",
   "execution_count": null,
   "id": "340acfec-2238-4c78-9e67-1b9d8912ae1c",
   "metadata": {},
   "outputs": [],
   "source": []
  },
  {
   "cell_type": "code",
   "execution_count": 513,
   "id": "b10dde86-167a-475e-a853-1478280279a0",
   "metadata": {},
   "outputs": [
    {
     "data": {
      "image/png": "[encoded data removed]",
      "text/plain": [
       "<Figure size 432x288 with 1 Axes>"
      ]
     },
     "metadata": {
      "needs_background": "light"
     },
     "output_type": "display_data"
    }
   ],
   "source": [
    "plt.scatter(y=train_frenchNew[\"X\"], x=train_frenchNew[\"y\"])\n",
    "x=train_frenchNew[\"y\"]\n",
    "y=train_frenchNew[\"X\"]\n",
    "plt.plot(np.unique(x), np.poly1d(np.polyfit(x, y, 1))(np.unique(x)))\n",
    "plt.xlabel('Apriori Rates')\n",
    "plt.ylabel('Tf-Idf Score')\n",
    "plt.title(\"French Data\")\n",
    "plt.show()"
   ]
  },
  {
   "cell_type": "code",
   "execution_count": 520,
   "id": "2f7b4cbf-872a-4927-8738-305a95bcb912",
   "metadata": {},
   "outputs": [
    {
     "data": {
      "image/png": "[encoded data removed]",
      "text/plain": [
       "<Figure size 432x288 with 1 Axes>"
      ]
     },
     "metadata": {
      "needs_background": "light"
     },
     "output_type": "display_data"
    }
   ],
   "source": [
    "plt.scatter(y=train_worldcupNew[\"X\"], x=train_worldcupNew[\"y\"],c=\"green\")\n",
    "x=train_worldcupNew[\"y\"]\n",
    "y=train_worldcupNew[\"X\"]\n",
    "plt.plot(np.unique(x), np.poly1d(np.polyfit(x, y, 1))(np.unique(x)),c=\"green\")\n",
    "plt.xlabel('Apriori Rates')\n",
    "plt.ylabel('Tf-Idf Score')\n",
    "plt.title(\"World Cup Data\")\n",
    "plt.show()"
   ]
  },
  {
   "cell_type": "code",
   "execution_count": 587,
   "id": "a4416f7e-9423-403d-9cad-4748eaed81b6",
   "metadata": {},
   "outputs": [
    {
     "data": {
      "image/png": "[encoded data removed]",
      "text/plain": [
       "<Figure size 432x288 with 1 Axes>"
      ]
     },
     "metadata": {
      "needs_background": "light"
     },
     "output_type": "display_data"
    }
   ],
   "source": [
    "plt.scatter(y=train_moaiNew[\"X\"], x=train_moaiNew[\"y\"], c=\"red\")\n",
    "x=train_moaiNew[\"y\"]\n",
    "y=train_moaiNew[\"X\"]\n",
    "plt.plot(np.unique(x), np.poly1d(np.polyfit(x, y, 1))(np.unique(x)),c=\"red\")\n",
    "plt.xlabel('Apriori Rates')\n",
    "plt.ylabel('Tf-Idf Score')\n",
    "plt.title(\"Moai Data\")\n",
    "plt.show()"
   ]
  },
  {
   "cell_type": "code",
   "execution_count": 521,
   "id": "223f2550-526e-4932-92ea-17f6f744604c",
   "metadata": {},
   "outputs": [
    {
     "data": {
      "image/png": "[encoded data removed]",
      "text/plain": [
       "<Figure size 432x288 with 1 Axes>"
      ]
     },
     "metadata": {
      "needs_background": "light"
     },
     "output_type": "display_data"
    }
   ],
   "source": [
    "plt.scatter(y=train_frenchNew[\"X\"], x=train_frenchNew[\"y\"])\n",
    "plt.scatter(y=train_worldcupNew[\"X\"], x=train_worldcupNew[\"y\"],c=\"green\")\n",
    "plt.scatter(y=train_moaiNew[\"X\"], x=train_moaiNew[\"y\"], c=\"red\")\n",
    "plt.xlabel('Apriori Rates')\n",
    "plt.ylabel('Tf-Idf Score')\n",
    "plt.title(\"All Data\")\n",
    "plt.show()"
   ]
  }
 ],
 "metadata": {
  "kernelspec": {
   "display_name": "ain311",
   "language": "python",
   "name": "ain311"
  },
  "language_info": {
   "codemirror_mode": {
    "name": "ipython",
    "version": 3
   },
   "file_extension": ".py",
   "mimetype": "text/x-python",
   "name": "python",
   "nbconvert_exporter": "python",
   "pygments_lexer": "ipython3",
   "version": "3.10.8"
  }
 },
 "nbformat": 4,
 "nbformat_minor": 5
}
